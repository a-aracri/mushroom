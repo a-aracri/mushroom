{
 "cells": [
  {
   "cell_type": "code",
   "execution_count": 28,
   "metadata": {},
   "outputs": [
    {
     "name": "stdout",
     "output_type": "stream",
     "text": [
      "Requirement already satisfied: numpy==1.18.1 in c:\\users\\aarac\\anaconda3\\lib\\site-packages (from -r requirements.txt (line 1)) (1.18.1)\n",
      "Collecting pandas==1.0.1\n",
      "  Using cached pandas-1.0.1-cp38-cp38-win_amd64.whl (9.2 MB)\n",
      "Collecting scikit-image==0.16.2\n",
      "  Using cached scikit_image-0.16.2-cp38-cp38-win_amd64.whl (25.8 MB)"
     ]
    },
    {
     "name": "stderr",
     "output_type": "stream",
     "text": [
      "ERROR: Could not install packages due to an EnvironmentError: [WinError 5] Accesso negato: 'C:\\\\Users\\\\aarac\\\\anaconda3\\\\Lib\\\\site-packages\\\\~andas\\\\_libs\\\\algos.cp38-win_amd64.pyd'\n",
      "Consider using the `--user` option or check the permissions.\n",
      "\n"
     ]
    },
    {
     "name": "stdout",
     "output_type": "stream",
     "text": [
      "\n",
      "Collecting scikit-learn==0.22.2.post1\n",
      "  Using cached scikit_learn-0.22.2.post1-cp38-cp38-win_amd64.whl (6.6 MB)\n",
      "Requirement already satisfied: python-dateutil>=2.6.1 in c:\\users\\aarac\\anaconda3\\lib\\site-packages (from pandas==1.0.1->-r requirements.txt (line 2)) (2.8.1)\n",
      "Requirement already satisfied: pytz>=2017.2 in c:\\users\\aarac\\anaconda3\\lib\\site-packages (from pandas==1.0.1->-r requirements.txt (line 2)) (2019.3)\n",
      "Requirement already satisfied: scipy>=0.19.0 in c:\\users\\aarac\\anaconda3\\lib\\site-packages (from scikit-image==0.16.2->-r requirements.txt (line 3)) (1.5.2)\n",
      "Requirement already satisfied: imageio>=2.3.0 in c:\\users\\aarac\\anaconda3\\lib\\site-packages (from scikit-image==0.16.2->-r requirements.txt (line 3)) (2.9.0)\n",
      "Requirement already satisfied: networkx>=2.0 in c:\\users\\aarac\\anaconda3\\lib\\site-packages (from scikit-image==0.16.2->-r requirements.txt (line 3)) (2.5)\n",
      "Requirement already satisfied: PyWavelets>=0.4.0 in c:\\users\\aarac\\anaconda3\\lib\\site-packages (from scikit-image==0.16.2->-r requirements.txt (line 3)) (1.1.1)\n",
      "Requirement already satisfied: matplotlib!=3.0.0,>=2.0.0 in c:\\users\\aarac\\anaconda3\\lib\\site-packages (from scikit-image==0.16.2->-r requirements.txt (line 3)) (3.3.2)\n",
      "Requirement already satisfied: pillow>=4.3.0 in c:\\users\\aarac\\anaconda3\\lib\\site-packages (from scikit-image==0.16.2->-r requirements.txt (line 3)) (7.1.2)\n",
      "Requirement already satisfied: joblib>=0.11 in c:\\users\\aarac\\anaconda3\\lib\\site-packages (from scikit-learn==0.22.2.post1->-r requirements.txt (line 4)) (0.17.0)\n",
      "Requirement already satisfied: six>=1.5 in c:\\users\\aarac\\anaconda3\\lib\\site-packages (from python-dateutil>=2.6.1->pandas==1.0.1->-r requirements.txt (line 2)) (1.14.0)\n",
      "Requirement already satisfied: decorator>=4.3.0 in c:\\users\\aarac\\anaconda3\\lib\\site-packages (from networkx>=2.0->scikit-image==0.16.2->-r requirements.txt (line 3)) (4.4.1)\n",
      "Collecting certifi>=2020.06.20\n",
      "  Using cached certifi-2020.12.5-py2.py3-none-any.whl (147 kB)\n",
      "Requirement already satisfied: kiwisolver>=1.0.1 in c:\\users\\aarac\\anaconda3\\lib\\site-packages (from matplotlib!=3.0.0,>=2.0.0->scikit-image==0.16.2->-r requirements.txt (line 3)) (1.3.0)\n",
      "Requirement already satisfied: pyparsing!=2.0.4,!=2.1.2,!=2.1.6,>=2.0.3 in c:\\users\\aarac\\anaconda3\\lib\\site-packages (from matplotlib!=3.0.0,>=2.0.0->scikit-image==0.16.2->-r requirements.txt (line 3)) (2.4.7)\n",
      "Requirement already satisfied: cycler>=0.10 in c:\\users\\aarac\\anaconda3\\lib\\site-packages (from matplotlib!=3.0.0,>=2.0.0->scikit-image==0.16.2->-r requirements.txt (line 3)) (0.10.0)\n",
      "Installing collected packages: pandas, scikit-image, scikit-learn, certifi\n",
      "  Attempting uninstall: pandas\n",
      "    Found existing installation: pandas 1.1.3\n",
      "    Uninstalling pandas-1.1.3:\n",
      "      Successfully uninstalled pandas-1.1.3\n"
     ]
    }
   ],
   "source": [
    "!pip install -r requirements.txt"
   ]
  },
  {
   "cell_type": "code",
   "execution_count": 29,
   "metadata": {},
   "outputs": [],
   "source": [
    "import pandas as pd\n",
    "\n",
    "train = pd.read_csv(\"./train.csv\")\n",
    "test = pd.read_csv(\"./test.csv\")"
   ]
  },
  {
   "cell_type": "code",
   "execution_count": 30,
   "metadata": {},
   "outputs": [],
   "source": [
    "from sklearn.preprocessing import LabelEncoder\n",
    "labelEncoder = LabelEncoder()\n",
    "# mapping valori int\n",
    "for column in train.columns:\n",
    "    train[column] = labelEncoder.fit_transform(train[column])\n",
    "    test[column] = labelEncoder.fit_transform(test[column])"
   ]
  },
  {
   "cell_type": "code",
   "execution_count": 31,
   "metadata": {},
   "outputs": [],
   "source": [
    "X_train = train.drop(\"class\",axis=1).copy()\n",
    "y_train = train[\"class\"].copy()\n",
    "\n",
    "X_test = test.drop(\"class\",axis=1).copy()\n",
    "y_test = test[\"class\"].copy()"
   ]
  },
  {
   "cell_type": "code",
   "execution_count": 32,
   "metadata": {},
   "outputs": [
    {
     "name": "stdout",
     "output_type": "stream",
     "text": [
      "99.23076923076923\n"
     ]
    }
   ],
   "source": [
    "from sklearn.metrics import accuracy_score\n",
    "from sklearn.tree import DecisionTreeClassifier\n",
    "model = DecisionTreeClassifier(max_depth=7,min_samples_leaf=4,random_state=0)\n",
    "model.fit(X_train, y_train)\n",
    "pred = model.predict(X_test)\n",
    "\n",
    "print(accuracy_score(y_test, pred)*100)"
   ]
  }
 ],
 "metadata": {
  "kernelspec": {
   "display_name": "Python 3",
   "language": "python",
   "name": "python3"
  },
  "language_info": {
   "codemirror_mode": {
    "name": "ipython",
    "version": 3
   },
   "file_extension": ".py",
   "mimetype": "text/x-python",
   "name": "python",
   "nbconvert_exporter": "python",
   "pygments_lexer": "ipython3",
   "version": "3.8.5"
  }
 },
 "nbformat": 4,
 "nbformat_minor": 4
}
